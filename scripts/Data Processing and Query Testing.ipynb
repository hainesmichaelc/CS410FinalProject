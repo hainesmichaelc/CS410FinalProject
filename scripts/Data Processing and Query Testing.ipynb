{
 "cells": [
  {
   "cell_type": "code",
   "execution_count": 129,
   "metadata": {},
   "outputs": [],
   "source": [
    "import pandas as pd\n",
    "import json\n",
    "credits = pd.read_csv('../data/tmdb_5000_credits.csv')\n",
    "movies = pd.read_csv('../data/tmdb_5000_movies.csv')"
   ]
  },
  {
   "cell_type": "code",
   "execution_count": 130,
   "metadata": {},
   "outputs": [],
   "source": [
    "def create_df(row, field_name, pk_name, fk_name):\n",
    "    df = pd.json_normalize(json.loads(row[field_name]))\n",
    "    if df.size:\n",
    "        df.insert(0, fk_name, row[pk_name])\n",
    "    return df\n",
    "\n",
    "cast = pd.concat(credits.apply(lambda x: create_df(\n",
    "    x, 'cast', 'movie_id', 'movie_id'), axis=1).tolist())\n",
    "crew = pd.concat(credits.apply(lambda x: create_df(\n",
    "    x, 'crew', 'movie_id', 'movie_id'), axis=1).tolist())\n",
    "genres = pd.concat(movies.apply(\n",
    "    lambda x: create_df(x, 'genres', 'id', 'movie_id'), axis=1).tolist())\n",
    "keywords = pd.concat(movies.apply(\n",
    "    lambda x: create_df(x, 'keywords', 'id', 'movie_id'), axis=1).tolist())\n",
    "production_companies = pd.concat(movies.apply(\n",
    "    lambda x: create_df(x, 'production_companies', 'id', 'movie_id'), axis=1).tolist())\n",
    "spoken_languages = pd.concat(movies.apply(\n",
    "    lambda x: create_df(x, 'spoken_languages', 'id', 'movie_id'), axis=1).tolist())\n",
    "production_countries = pd.concat(movies.apply(\n",
    "    lambda x: create_df(x, 'production_countries', 'id', 'movie_id'), axis=1).tolist())\n",
    "credits = credits.drop(['cast', 'crew'], axis=1)\n",
    "cast = cast.drop(['cast_id', 'credit_id', 'id'], axis=1)\n",
    "crew = crew.drop(['credit_id', 'id'], axis=1)\n",
    "genres = genres.drop(['id'], axis=1)\n",
    "keywords = keywords.drop(['id'], axis=1)\n",
    "production_companies = production_companies.drop(['id'], axis=1)\n",
    "movies = movies.drop(['genres', 'keywords', 'production_companies',\n",
    "                      'spoken_languages', 'production_countries', 'overview', 'tagline', 'homepage', 'original_title'], axis=1)\n"
   ]
  },
  {
   "cell_type": "code",
   "execution_count": 170,
   "metadata": {},
   "outputs": [
    {
     "data": {
      "text/html": [
       "<div>\n",
       "<style scoped>\n",
       "    .dataframe tbody tr th:only-of-type {\n",
       "        vertical-align: middle;\n",
       "    }\n",
       "\n",
       "    .dataframe tbody tr th {\n",
       "        vertical-align: top;\n",
       "    }\n",
       "\n",
       "    .dataframe thead th {\n",
       "        text-align: right;\n",
       "    }\n",
       "</style>\n",
       "<table border=\"1\" class=\"dataframe\">\n",
       "  <thead>\n",
       "    <tr style=\"text-align: right;\">\n",
       "      <th></th>\n",
       "      <th>budget</th>\n",
       "      <th>id</th>\n",
       "      <th>original_language</th>\n",
       "      <th>popularity</th>\n",
       "      <th>release_date</th>\n",
       "      <th>revenue</th>\n",
       "      <th>runtime</th>\n",
       "      <th>status</th>\n",
       "      <th>title</th>\n",
       "      <th>vote_average</th>\n",
       "      <th>vote_count</th>\n",
       "    </tr>\n",
       "  </thead>\n",
       "  <tbody>\n",
       "    <tr>\n",
       "      <th>0</th>\n",
       "      <td>237000000</td>\n",
       "      <td>19995</td>\n",
       "      <td>en</td>\n",
       "      <td>150.437577</td>\n",
       "      <td>2009-12-10</td>\n",
       "      <td>2787965087</td>\n",
       "      <td>162.0</td>\n",
       "      <td>Released</td>\n",
       "      <td>Avatar</td>\n",
       "      <td>7.2</td>\n",
       "      <td>11800</td>\n",
       "    </tr>\n",
       "    <tr>\n",
       "      <th>1</th>\n",
       "      <td>300000000</td>\n",
       "      <td>285</td>\n",
       "      <td>en</td>\n",
       "      <td>139.082615</td>\n",
       "      <td>2007-05-19</td>\n",
       "      <td>961000000</td>\n",
       "      <td>169.0</td>\n",
       "      <td>Released</td>\n",
       "      <td>Pirates of the Caribbean: At World's End</td>\n",
       "      <td>6.9</td>\n",
       "      <td>4500</td>\n",
       "    </tr>\n",
       "    <tr>\n",
       "      <th>2</th>\n",
       "      <td>245000000</td>\n",
       "      <td>206647</td>\n",
       "      <td>en</td>\n",
       "      <td>107.376788</td>\n",
       "      <td>2015-10-26</td>\n",
       "      <td>880674609</td>\n",
       "      <td>148.0</td>\n",
       "      <td>Released</td>\n",
       "      <td>Spectre</td>\n",
       "      <td>6.3</td>\n",
       "      <td>4466</td>\n",
       "    </tr>\n",
       "    <tr>\n",
       "      <th>3</th>\n",
       "      <td>250000000</td>\n",
       "      <td>49026</td>\n",
       "      <td>en</td>\n",
       "      <td>112.312950</td>\n",
       "      <td>2012-07-16</td>\n",
       "      <td>1084939099</td>\n",
       "      <td>165.0</td>\n",
       "      <td>Released</td>\n",
       "      <td>The Dark Knight Rises</td>\n",
       "      <td>7.6</td>\n",
       "      <td>9106</td>\n",
       "    </tr>\n",
       "    <tr>\n",
       "      <th>4</th>\n",
       "      <td>260000000</td>\n",
       "      <td>49529</td>\n",
       "      <td>en</td>\n",
       "      <td>43.926995</td>\n",
       "      <td>2012-03-07</td>\n",
       "      <td>284139100</td>\n",
       "      <td>132.0</td>\n",
       "      <td>Released</td>\n",
       "      <td>John Carter</td>\n",
       "      <td>6.1</td>\n",
       "      <td>2124</td>\n",
       "    </tr>\n",
       "  </tbody>\n",
       "</table>\n",
       "</div>"
      ],
      "text/plain": [
       "      budget      id original_language  popularity release_date     revenue  \\\n",
       "0  237000000   19995                en  150.437577   2009-12-10  2787965087   \n",
       "1  300000000     285                en  139.082615   2007-05-19   961000000   \n",
       "2  245000000  206647                en  107.376788   2015-10-26   880674609   \n",
       "3  250000000   49026                en  112.312950   2012-07-16  1084939099   \n",
       "4  260000000   49529                en   43.926995   2012-03-07   284139100   \n",
       "\n",
       "   runtime    status                                     title  vote_average  \\\n",
       "0    162.0  Released                                    Avatar           7.2   \n",
       "1    169.0  Released  Pirates of the Caribbean: At World's End           6.9   \n",
       "2    148.0  Released                                   Spectre           6.3   \n",
       "3    165.0  Released                     The Dark Knight Rises           7.6   \n",
       "4    132.0  Released                               John Carter           6.1   \n",
       "\n",
       "   vote_count  \n",
       "0       11800  \n",
       "1        4500  \n",
       "2        4466  \n",
       "3        9106  \n",
       "4        2124  "
      ]
     },
     "execution_count": 170,
     "metadata": {},
     "output_type": "execute_result"
    }
   ],
   "source": [
    "cast = cast.drop(['cast_id', 'credit_id', 'id'], axis=1)\n",
    "crew = crew.drop(['credit_id', 'id'], axis=1)\n",
    "genres = genres.drop(['id'], axis=1)\n",
    "keywords = keywords.drop(['id'], axis=1)\n",
    "production_companies = production_companies.drop(['id'], axis=1)\n",
    "movies = movies.drop(['overview', 'tagline', 'homepage', 'original_title'], axis=1)\n"
   ]
  },
  {
   "cell_type": "code",
   "execution_count": 189,
   "metadata": {},
   "outputs": [
    {
     "data": {
      "text/html": [
       "<div>\n",
       "<style scoped>\n",
       "    .dataframe tbody tr th:only-of-type {\n",
       "        vertical-align: middle;\n",
       "    }\n",
       "\n",
       "    .dataframe tbody tr th {\n",
       "        vertical-align: top;\n",
       "    }\n",
       "\n",
       "    .dataframe thead th {\n",
       "        text-align: right;\n",
       "    }\n",
       "</style>\n",
       "<table border=\"1\" class=\"dataframe\">\n",
       "  <thead>\n",
       "    <tr style=\"text-align: right;\">\n",
       "      <th></th>\n",
       "      <th>first_year</th>\n",
       "    </tr>\n",
       "  </thead>\n",
       "  <tbody>\n",
       "    <tr>\n",
       "      <th>0</th>\n",
       "      <td>1916</td>\n",
       "    </tr>\n",
       "  </tbody>\n",
       "</table>\n",
       "</div>"
      ],
      "text/plain": [
       "  first_year\n",
       "0       1916"
      ]
     },
     "execution_count": 189,
     "metadata": {},
     "output_type": "execute_result"
    }
   ],
   "source": [
    "from datasloth import DataSloth\n",
    "sloth = DataSloth()\n",
    "sloth.query(\"What year was the first movie made in\")\n"
   ]
  },
  {
   "cell_type": "code",
   "execution_count": 186,
   "metadata": {},
   "outputs": [
    {
     "name": "stdout",
     "output_type": "stream",
     "text": [
      "SELECT title, popularity\n",
      "FROM movies\n",
      "JOIN credits ON credits.movie_id = movies.id\n",
      "WHERE name = 'Sigourney Weaver'\n",
      "ORDER BY popularity DESC\n",
      "LIMIT 1\n"
     ]
    }
   ],
   "source": [
    "sloth.show_last_query()\n"
   ]
  }
 ],
 "metadata": {
  "kernelspec": {
   "display_name": "Python 3.9.9 64-bit",
   "language": "python",
   "name": "python3"
  },
  "language_info": {
   "codemirror_mode": {
    "name": "ipython",
    "version": 3
   },
   "file_extension": ".py",
   "mimetype": "text/x-python",
   "name": "python",
   "nbconvert_exporter": "python",
   "pygments_lexer": "ipython3",
   "version": "3.9.9"
  },
  "orig_nbformat": 4,
  "vscode": {
   "interpreter": {
    "hash": "aee8b7b246df8f9039afb4144a1f6fd8d2ca17a180786b69acc140d282b71a49"
   }
  }
 },
 "nbformat": 4,
 "nbformat_minor": 2
}
